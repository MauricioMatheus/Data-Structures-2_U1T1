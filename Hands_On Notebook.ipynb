{
  "cells": [
    {
      "cell_type": "markdown",
      "metadata": {
        "id": "W3VDUqCoBqX2"
      },
      "source": [
        "# Heads-On Graph Theory Tutorial\n",
        "\n",
        "This tutorial provides a hands-on introduction to graph theory concepts and applications using Python. We will cover fundamental graph models, including simple graphs, directed and weighted graphs, bipartite graphs, and a simplified multilayer network representation. The content is inspired by classical graph theory and enhanced with insights from the provided PDF (chapters 6 and 7)."
      ]
    },
    {
      "cell_type": "markdown",
      "metadata": {
        "id": "qcmaJWywBqX5"
      },
      "source": [
        "## Introduction\n",
        "\n",
        "Graph theory is a powerful tool to model complex systems from social networks to biological interactions. In this tutorial, we will:\n",
        "\n",
        "- Define basic graph elements such as nodes (vertices) and edges (links).\n",
        "- Explore simple graphs and their properties.\n",
        "- Extend these concepts to directed and weighted graphs.\n",
        "- Introduce advanced structures like bipartite and multilayer networks.\n",
        "\n",
        "Let’s dive in!"
      ]
    },
    {
      "cell_type": "code",
      "execution_count": null,
      "metadata": {
        "id": "ttb7f6eNBqX6"
      },
      "outputs": [],
      "source": [
        "# Import required libraries\n",
        "import networkx as nx\n",
        "import matplotlib.pyplot as plt\n",
        "%matplotlib inline\n",
        "\n",
        "# Set plotting style\n",
        "plt.style.use('seaborn-whitegrid')"
      ]
    },
    {
      "cell_type": "markdown",
      "metadata": {
        "id": "7CdXIyvoBqX7"
      },
      "source": [
        "## 1. Simple Graphs\n",
        "\n",
        "A **simple graph** is defined as a set of nodes and a set of edges connecting pairs of nodes. In our example below, we create a simple undirected graph and visualize it.\n",
        "\n",
        "According to the theory (see PDF chapter 6), a simple graph has no self-loops or multiple edges between the same pair of nodes."
      ]
    },
    {
      "cell_type": "code",
      "execution_count": null,
      "metadata": {
        "id": "Dc0FmFgmBqX7"
      },
      "outputs": [],
      "source": [
        "# Create a simple undirected graph\n",
        "G = nx.Graph()\n",
        "\n",
        "# Add nodes\n",
        "G.add_nodes_from([1, 2, 3, 4])\n",
        "\n",
        "# Add edges\n",
        "G.add_edges_from([(1, 2), (2, 3), (3, 4), (4, 1)])\n",
        "\n",
        "# Draw the graph\n",
        "nx.draw(G, with_labels=True, node_color='lightblue', edge_color='gray', node_size=500)\n",
        "plt.title('Simple Graph')\n",
        "plt.show()"
      ]
    },
    {
      "cell_type": "markdown",
      "metadata": {
        "id": "FGhkEuevBqX8"
      },
      "source": [
        "## 2. Directed and Weighted Graphs\n",
        "\n",
        "Real-world networks often include directions and weights on edges. A **directed graph** has edges with a specific direction (e.g., u → v), and in a **weighted graph**, each edge carries a numerical value that might represent cost, distance, or strength.\n",
        "\n",
        "Below is an example of a directed weighted graph."
      ]
    },
    {
      "cell_type": "code",
      "execution_count": null,
      "metadata": {
        "id": "yYIQtRyrBqX9"
      },
      "outputs": [],
      "source": [
        "# Create a directed weighted graph\n",
        "DG = nx.DiGraph()\n",
        "\n",
        "# Add weighted edges in the form (source, target, weight)\n",
        "DG.add_weighted_edges_from([(1, 2, 3.5), (2, 3, 1.2), (3, 1, 4.8)])\n",
        "\n",
        "# Compute positions for visualization\n",
        "pos = nx.spring_layout(DG)\n",
        "\n",
        "# Get edge weight labels\n",
        "edge_labels = nx.get_edge_attributes(DG, 'weight')\n",
        "\n",
        "# Draw the directed graph with weights\n",
        "nx.draw(DG, pos, with_labels=True, node_color='lightgreen', arrowstyle='-|>', arrowsize=15)\n",
        "nx.draw_networkx_edge_labels(DG, pos, edge_labels=edge_labels)\n",
        "plt.title('Directed Weighted Graph')\n",
        "plt.show()"
      ]
    },
    {
      "cell_type": "markdown",
      "metadata": {
        "id": "mRt9NCn1BqX9"
      },
      "source": [
        "## 3. Advanced Graph Structures\n",
        "\n",
        "### 3.1 Bipartite Graphs\n",
        "\n",
        "A **bipartite graph** consists of two disjoint sets of nodes with edges only between nodes of different sets. This model is useful for representing relationships such as people and the groups they belong to.\n",
        "\n",
        "Let's create and visualize a bipartite graph."
      ]
    },
    {
      "cell_type": "code",
      "execution_count": null,
      "metadata": {
        "id": "XbQT7Qe9BqX-"
      },
      "outputs": [],
      "source": [
        "from networkx.algorithms import bipartite\n",
        "\n",
        "# Create a bipartite graph\n",
        "B = nx.Graph()\n",
        "\n",
        "# Add nodes for two different sets\n",
        "B.add_nodes_from(['A', 'B', 'C'], bipartite=0)  # set 1\n",
        "B.add_nodes_from([1, 2, 3, 4], bipartite=1)      # set 2\n",
        "\n",
        "# Add edges only between the two sets\n",
        "B.add_edges_from([('A', 1), ('A', 2), ('B', 2), ('C', 3), ('C', 4)])\n",
        "\n",
        "# To visualize, we can assign positions by set\n",
        "pos = {}\n",
        "pos.update((n, (1, i)) for i, n in enumerate(['A', 'B', 'C']))\n",
        "pos.update((n, (2, i)) for i, n in enumerate([1, 2, 3, 4]))\n",
        "\n",
        "nx.draw(B, pos, with_labels=True, node_color='lightcoral', node_size=500)\n",
        "plt.title('Bipartite Graph')\n",
        "plt.show()"
      ]
    },
    {
      "cell_type": "markdown",
      "metadata": {
        "id": "ZelY3ttuBqX-"
      },
      "source": [
        "### 3.2 Multilayer Networks\n",
        "\n",
        "In many real-world scenarios, the same set of nodes can interact in different ways—this gives rise to **multilayer networks**. In a simplified representation, we assign a 'layer' label to each edge to indicate the type of relationship (e.g., Facebook, Twitter, LinkedIn).\n",
        "\n",
        "Below, we create a simple multilayer network where each edge carries a layer attribute."
      ]
    },
    {
      "cell_type": "code",
      "execution_count": null,
      "metadata": {
        "id": "D6U6d7ceBqX_"
      },
      "outputs": [],
      "source": [
        "# Create a graph to represent a multilayer network\n",
        "M = nx.Graph()\n",
        "\n",
        "# Add nodes\n",
        "M.add_nodes_from([1, 2, 3, 4])\n",
        "\n",
        "# Add edges with a 'layer' attribute representing different types\n",
        "M.add_edge(1, 2, layer='Facebook')\n",
        "M.add_edge(2, 3, layer='Twitter')\n",
        "M.add_edge(3, 4, layer='LinkedIn')\n",
        "M.add_edge(4, 1, layer='Facebook')\n",
        "\n",
        "# Get layer labels for edges\n",
        "edge_layers = nx.get_edge_attributes(M, 'layer')\n",
        "\n",
        "pos = nx.spring_layout(M)\n",
        "nx.draw(M, pos, with_labels=True, node_color='lightyellow', node_size=500)\n",
        "nx.draw_networkx_edge_labels(M, pos, edge_labels=edge_layers)\n",
        "plt.title('Simplified Multilayer Network')\n",
        "plt.show()"
      ]
    },
    {
      "cell_type": "markdown",
      "metadata": {
        "id": "ddzTrFwOBqX_"
      },
      "source": [
        "## 4. Hands-On Exercises\n",
        "\n",
        "Now it’s your turn! Here are some exercises to deepen your understanding:\n",
        "\n",
        "1. **Simple Graphs:** Add more nodes and edges to the simple graph. How does the connectivity change?\n",
        "2. **Directed/Weighted Graphs:** Modify edge weights and directions. How do these changes affect graph properties such as reachability?\n",
        "3. **Bipartite Graphs:** Swap or add nodes to different sets. Explore the bipartite projection and discuss potential applications.\n",
        "4. **Multilayer Networks:** Add a new layer (e.g., Instagram) and assign its edges. How would you analyze overlapping relationships in a multilayer context?\n",
        "\n",
        "Experiment with these ideas to get hands-on experience with network science!"
      ]
    },
    {
      "cell_type": "markdown",
      "metadata": {
        "id": "aeyiNMqYBqX_"
      },
      "source": [
        "## Conclusion\n",
        "\n",
        "In this tutorial, we explored several key concepts in graph theory:\n",
        "\n",
        "- **Simple graphs:** Fundamental structures with nodes and edges.\n",
        "- **Directed and weighted graphs:** Enhancing edges with directionality and quantitative attributes.\n",
        "- **Bipartite graphs:** Modeling relationships between two distinct sets of nodes.\n",
        "- **Multilayer networks:** Representing multiple types of interactions among the same nodes.\n",
        "\n",
        "These ideas are the building blocks for advanced network analysis and reflect the theoretical insights from the provided PDF chapters on graph theory. Keep experimenting, and happy coding!"
      ]
    },
    {
      "cell_type": "markdown",
      "metadata": {
        "id": "YFDaAhuNBqX_"
      },
      "source": [
        "---\n",
        "Tutorial created as an original work based on provided materials and further enriched with modern network science practices."
      ]
    }
  ],
  "metadata": {
    "kernelspec": {
      "display_name": "Python 3",
      "language": "python",
      "name": "python3"
    },
    "language_info": {
      "name": "python",
      "version": "3.x"
    },
    "colab": {
      "provenance": []
    }
  },
  "nbformat": 4,
  "nbformat_minor": 0
}